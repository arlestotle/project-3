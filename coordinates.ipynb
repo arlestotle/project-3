{
 "cells": [
  {
   "cell_type": "markdown",
   "id": "94c67dbc",
   "metadata": {},
   "source": [
    "Dataset was imported with:\n",
    "mongoimport --type csv -d texas_missing -c cases --drop --headerline --drop Missing.csv"
   ]
  },
  {
   "cell_type": "code",
   "execution_count": 22,
   "id": "cdb7fd95",
   "metadata": {},
   "outputs": [],
   "source": [
    "# Import Dependencies\n",
    "from pymongo import MongoClient\n",
    "from pprint import pprint\n",
    "import pandas as pd\n",
    "from geopy.geocoders import Nominatim"
   ]
  },
  {
   "cell_type": "code",
   "execution_count": 23,
   "id": "0d46907a",
   "metadata": {},
   "outputs": [],
   "source": [
    "# Nominatim to variable\n",
    "geolocator = Nominatim(user_agent=\"testing\")\n",
    "\n",
    "# The default port used by MongoDB is 27017\n",
    "mongo = MongoClient(port=27017)"
   ]
  },
  {
   "cell_type": "code",
   "execution_count": 24,
   "id": "ea1a687d",
   "metadata": {},
   "outputs": [
    {
     "name": "stdout",
     "output_type": "stream",
     "text": [
      "admin  \n",
      "classDB  \n",
      "config  \n",
      "epa  \n",
      "fruits_db  \n",
      "local  \n",
      "met  \n",
      "texas_missing <----------------\n",
      "travel_db  \n",
      "uk_food  \n"
     ]
    }
   ],
   "source": [
    "# Confirm that the database was created\n",
    "for dbname in mongo.list_database_names():\n",
    "    print(dbname, \"<----------------\" if dbname == \"texas_missing\" else \" \")"
   ]
  },
  {
   "cell_type": "code",
   "execution_count": 25,
   "id": "7ef728e6",
   "metadata": {},
   "outputs": [
    {
     "name": "stdout",
     "output_type": "stream",
     "text": [
      "['cases']\n"
     ]
    }
   ],
   "source": [
    "# Assign the database to a variable\n",
    "db = mongo['texas_missing']\n",
    "\n",
    "# Review the collections in the db\n",
    "print(db.list_collection_names())"
   ]
  },
  {
   "cell_type": "code",
   "execution_count": 26,
   "id": "12043efa",
   "metadata": {},
   "outputs": [],
   "source": [
    "# Assign the collection to a variable\n",
    "cases = db['cases']"
   ]
  },
  {
   "cell_type": "code",
   "execution_count": 27,
   "id": "96f4ff60",
   "metadata": {},
   "outputs": [
    {
     "name": "stdout",
     "output_type": "stream",
     "text": [
      "{'': 3,\n",
      " 'Age': '22 years old',\n",
      " 'Classification': 'Missing',\n",
      " 'Date of Birth': '11/14/1967 (56)',\n",
      " 'Height and Weight': \" 5'5, 110 pounds\",\n",
      " 'Missing From': ' Abilene, Texas',\n",
      " 'Missing Since': '03/01/1989',\n",
      " 'Person Name': 'Debra Marie Adams',\n",
      " 'Race': 'White',\n",
      " 'Sex': 'Female',\n",
      " '_id': ObjectId('658cf21eef708428cb9f0290')}\n"
     ]
    }
   ],
   "source": [
    "# Review a document in the cases collection\n",
    "pprint(cases.find_one())"
   ]
  },
  {
   "cell_type": "code",
   "execution_count": 28,
   "id": "ea3e4a7d",
   "metadata": {
    "scrolled": true
   },
   "outputs": [
    {
     "name": "stdout",
     "output_type": "stream",
     "text": [
      "Rows for all cases: 966\n"
     ]
    },
    {
     "data": {
      "text/html": [
       "<div>\n",
       "<style scoped>\n",
       "    .dataframe tbody tr th:only-of-type {\n",
       "        vertical-align: middle;\n",
       "    }\n",
       "\n",
       "    .dataframe tbody tr th {\n",
       "        vertical-align: top;\n",
       "    }\n",
       "\n",
       "    .dataframe thead th {\n",
       "        text-align: right;\n",
       "    }\n",
       "</style>\n",
       "<table border=\"1\" class=\"dataframe\">\n",
       "  <thead>\n",
       "    <tr style=\"text-align: right;\">\n",
       "      <th></th>\n",
       "      <th>_id</th>\n",
       "      <th></th>\n",
       "      <th>Person Name</th>\n",
       "      <th>Missing Since</th>\n",
       "      <th>Missing From</th>\n",
       "      <th>Classification</th>\n",
       "      <th>Sex</th>\n",
       "      <th>Race</th>\n",
       "      <th>Date of Birth</th>\n",
       "      <th>Age</th>\n",
       "      <th>Height and Weight</th>\n",
       "    </tr>\n",
       "  </thead>\n",
       "  <tbody>\n",
       "    <tr>\n",
       "      <th>0</th>\n",
       "      <td>658cf21eef708428cb9f0290</td>\n",
       "      <td>3</td>\n",
       "      <td>Debra Marie Adams</td>\n",
       "      <td>03/01/1989</td>\n",
       "      <td>Abilene, Texas</td>\n",
       "      <td>Missing</td>\n",
       "      <td>Female</td>\n",
       "      <td>White</td>\n",
       "      <td>11/14/1967 (56)</td>\n",
       "      <td>22 years old</td>\n",
       "      <td>5'5, 110 pounds</td>\n",
       "    </tr>\n",
       "    <tr>\n",
       "      <th>1</th>\n",
       "      <td>658cf21eef708428cb9f0291</td>\n",
       "      <td>4</td>\n",
       "      <td>Michael Jefferson Adams</td>\n",
       "      <td>06/08/1987</td>\n",
       "      <td>Abilene, Texas</td>\n",
       "      <td>Endangered Missing</td>\n",
       "      <td>Male</td>\n",
       "      <td>White</td>\n",
       "      <td>03/28/1969 (54)</td>\n",
       "      <td>18 years old</td>\n",
       "      <td>6'0 - 6'1, 145 - 150 pounds</td>\n",
       "    </tr>\n",
       "    <tr>\n",
       "      <th>2</th>\n",
       "      <td>658cf21eef708428cb9f0292</td>\n",
       "      <td>0</td>\n",
       "      <td>Angela Abbrederis</td>\n",
       "      <td>04/02/1996</td>\n",
       "      <td>Dallas, Texas</td>\n",
       "      <td>Endangered Missing</td>\n",
       "      <td>Female</td>\n",
       "      <td>Asian, Biracial, White</td>\n",
       "      <td>10/25/1968 (55)</td>\n",
       "      <td>27 years old</td>\n",
       "      <td>5'7 - 5'9, 115 - 130 pounds</td>\n",
       "    </tr>\n",
       "    <tr>\n",
       "      <th>3</th>\n",
       "      <td>658cf21eef708428cb9f0293</td>\n",
       "      <td>5</td>\n",
       "      <td>Louella Renee Addison</td>\n",
       "      <td>09/13/2019</td>\n",
       "      <td>Austin, Texas</td>\n",
       "      <td>Endangered Missing</td>\n",
       "      <td>Female</td>\n",
       "      <td>Black</td>\n",
       "      <td>08/09/1966 (57)</td>\n",
       "      <td>53 years old</td>\n",
       "      <td>5'0, 120 - 150 pounds</td>\n",
       "    </tr>\n",
       "    <tr>\n",
       "      <th>4</th>\n",
       "      <td>658cf21eef708428cb9f0294</td>\n",
       "      <td>6</td>\n",
       "      <td>Adolfo Santo Agramonte</td>\n",
       "      <td>06/20/2005</td>\n",
       "      <td>McAllen, Texas</td>\n",
       "      <td>Migrant</td>\n",
       "      <td>Male</td>\n",
       "      <td>Biracial, Black, Hispanic</td>\n",
       "      <td>N/A</td>\n",
       "      <td>31 years old</td>\n",
       "      <td>5'10 - 6'2, 180 pounds</td>\n",
       "    </tr>\n",
       "  </tbody>\n",
       "</table>\n",
       "</div>"
      ],
      "text/plain": [
       "                        _id                 Person Name Missing Since  \\\n",
       "0  658cf21eef708428cb9f0290  3        Debra Marie Adams    03/01/1989   \n",
       "1  658cf21eef708428cb9f0291  4  Michael Jefferson Adams    06/08/1987   \n",
       "2  658cf21eef708428cb9f0292  0        Angela Abbrederis    04/02/1996   \n",
       "3  658cf21eef708428cb9f0293  5    Louella Renee Addison    09/13/2019   \n",
       "4  658cf21eef708428cb9f0294  6   Adolfo Santo Agramonte    06/20/2005   \n",
       "\n",
       "      Missing From      Classification     Sex                        Race  \\\n",
       "0   Abilene, Texas             Missing  Female                       White   \n",
       "1   Abilene, Texas  Endangered Missing    Male                       White   \n",
       "2    Dallas, Texas  Endangered Missing  Female      Asian, Biracial, White   \n",
       "3    Austin, Texas  Endangered Missing  Female                       Black   \n",
       "4   McAllen, Texas             Migrant    Male   Biracial, Black, Hispanic   \n",
       "\n",
       "     Date of Birth           Age             Height and Weight  \n",
       "0  11/14/1967 (56)  22 years old               5'5, 110 pounds  \n",
       "1  03/28/1969 (54)  18 years old   6'0 - 6'1, 145 - 150 pounds  \n",
       "2  10/25/1968 (55)  27 years old   5'7 - 5'9, 115 - 130 pounds  \n",
       "3  08/09/1966 (57)  53 years old         5'0, 120 - 150 pounds  \n",
       "4              N/A  31 years old        5'10 - 6'2, 180 pounds  "
      ]
     },
     "execution_count": 28,
     "metadata": {},
     "output_type": "execute_result"
    }
   ],
   "source": [
    "# View our csv file as a DataFrame\n",
    "cases_df = pd.DataFrame(list(cases.find()))\n",
    "print(\"Rows for all cases:\", len(cases_df))\n",
    "cases_df.head()"
   ]
  },
  {
   "cell_type": "code",
   "execution_count": 34,
   "id": "bcf73170",
   "metadata": {},
   "outputs": [
    {
     "name": "stdout",
     "output_type": "stream",
     "text": [
      "Number of cases missing location: 18\n"
     ]
    }
   ],
   "source": [
    "# Find all documents missing location\n",
    "query = {'Missing From':{'$regex':\"N/A\"}}\n",
    "results = cases.find(query)\n",
    "print(\"Number of cases missing location:\",cases.count_documents(query))"
   ]
  },
  {
   "cell_type": "code",
   "execution_count": 37,
   "id": "8d35cbed",
   "metadata": {},
   "outputs": [
    {
     "name": "stdout",
     "output_type": "stream",
     "text": [
      "Number of cases missing location: 0\n"
     ]
    }
   ],
   "source": [
    "# Delete all documents missing location\n",
    "cases.delete_many(query)\n",
    "results = cases.find(query)\n",
    "print(\"Number of cases missing location:\",cases.count_documents(query))"
   ]
  },
  {
   "cell_type": "code",
   "execution_count": 52,
   "id": "aa847ea2",
   "metadata": {},
   "outputs": [
    {
     "name": "stdout",
     "output_type": "stream",
     "text": [
      "length of clean dataframe: 948\n"
     ]
    },
    {
     "data": {
      "text/html": [
       "<div>\n",
       "<style scoped>\n",
       "    .dataframe tbody tr th:only-of-type {\n",
       "        vertical-align: middle;\n",
       "    }\n",
       "\n",
       "    .dataframe tbody tr th {\n",
       "        vertical-align: top;\n",
       "    }\n",
       "\n",
       "    .dataframe thead th {\n",
       "        text-align: right;\n",
       "    }\n",
       "</style>\n",
       "<table border=\"1\" class=\"dataframe\">\n",
       "  <thead>\n",
       "    <tr style=\"text-align: right;\">\n",
       "      <th></th>\n",
       "      <th>_id</th>\n",
       "      <th>Missing From</th>\n",
       "    </tr>\n",
       "  </thead>\n",
       "  <tbody>\n",
       "    <tr>\n",
       "      <th>0</th>\n",
       "      <td>658cf21eef708428cb9f0290</td>\n",
       "      <td>Abilene, Texas</td>\n",
       "    </tr>\n",
       "    <tr>\n",
       "      <th>1</th>\n",
       "      <td>658cf21eef708428cb9f0291</td>\n",
       "      <td>Abilene, Texas</td>\n",
       "    </tr>\n",
       "    <tr>\n",
       "      <th>2</th>\n",
       "      <td>658cf21eef708428cb9f0292</td>\n",
       "      <td>Dallas, Texas</td>\n",
       "    </tr>\n",
       "    <tr>\n",
       "      <th>3</th>\n",
       "      <td>658cf21eef708428cb9f0293</td>\n",
       "      <td>Austin, Texas</td>\n",
       "    </tr>\n",
       "    <tr>\n",
       "      <th>4</th>\n",
       "      <td>658cf21eef708428cb9f0294</td>\n",
       "      <td>McAllen, Texas</td>\n",
       "    </tr>\n",
       "  </tbody>\n",
       "</table>\n",
       "</div>"
      ],
      "text/plain": [
       "                        _id     Missing From\n",
       "0  658cf21eef708428cb9f0290   Abilene, Texas\n",
       "1  658cf21eef708428cb9f0291   Abilene, Texas\n",
       "2  658cf21eef708428cb9f0292    Dallas, Texas\n",
       "3  658cf21eef708428cb9f0293    Austin, Texas\n",
       "4  658cf21eef708428cb9f0294   McAllen, Texas"
      ]
     },
     "execution_count": 52,
     "metadata": {},
     "output_type": "execute_result"
    }
   ],
   "source": [
    "# Smaller dataframe containing id's and locations\n",
    "query = {}\n",
    "fields = {'_id':1, 'Missing From':1}\n",
    "results = cases.find(query,fields)\n",
    "coord_df = pd.DataFrame(results)\n",
    "print(\"length of clean dataframe:\", len(coord_df))\n",
    "coord_df.head()"
   ]
  },
  {
   "cell_type": "code",
   "execution_count": 54,
   "id": "efd801b2",
   "metadata": {},
   "outputs": [],
   "source": [
    "# Find lat and lon for each row in \"Missing From\" using Geocode\n",
    "lat = []\n",
    "lon = []\n",
    "\n",
    "\n",
    "for location in coord_df['Missing From']:\n",
    "    try:\n",
    "        location_info = geolocator.geocode(location)\n",
    "        latitude = location_info.latitude\n",
    "        longitude = location_info.longitude\n",
    "        \n",
    "        lat.append(latitude)\n",
    "        lon.append(longitude)\n",
    "        \n",
    "    except:\n",
    "        lat.append(None)\n",
    "        lon.append(None)\n",
    "        \n",
    "coord_df['latitude'] = lat\n",
    "coord_df['longitude'] = lon"
   ]
  },
  {
   "cell_type": "code",
   "execution_count": 61,
   "id": "32922668",
   "metadata": {},
   "outputs": [
    {
     "name": "stdout",
     "output_type": "stream",
     "text": [
      "Rows for all cases: 948\n"
     ]
    },
    {
     "data": {
      "text/html": [
       "<div>\n",
       "<style scoped>\n",
       "    .dataframe tbody tr th:only-of-type {\n",
       "        vertical-align: middle;\n",
       "    }\n",
       "\n",
       "    .dataframe tbody tr th {\n",
       "        vertical-align: top;\n",
       "    }\n",
       "\n",
       "    .dataframe thead th {\n",
       "        text-align: right;\n",
       "    }\n",
       "</style>\n",
       "<table border=\"1\" class=\"dataframe\">\n",
       "  <thead>\n",
       "    <tr style=\"text-align: right;\">\n",
       "      <th></th>\n",
       "      <th>_id</th>\n",
       "      <th></th>\n",
       "      <th>Person Name</th>\n",
       "      <th>Missing Since</th>\n",
       "      <th>Missing From</th>\n",
       "      <th>Classification</th>\n",
       "      <th>Sex</th>\n",
       "      <th>Race</th>\n",
       "      <th>Date of Birth</th>\n",
       "      <th>Age</th>\n",
       "      <th>Height and Weight</th>\n",
       "      <th>Latitude</th>\n",
       "      <th>Longitude</th>\n",
       "    </tr>\n",
       "  </thead>\n",
       "  <tbody>\n",
       "    <tr>\n",
       "      <th>0</th>\n",
       "      <td>658cf21eef708428cb9f0290</td>\n",
       "      <td>3</td>\n",
       "      <td>Debra Marie Adams</td>\n",
       "      <td>03/01/1989</td>\n",
       "      <td>Abilene, Texas</td>\n",
       "      <td>Missing</td>\n",
       "      <td>Female</td>\n",
       "      <td>White</td>\n",
       "      <td>11/14/1967 (56)</td>\n",
       "      <td>22 years old</td>\n",
       "      <td>5'5, 110 pounds</td>\n",
       "      <td>32.446450</td>\n",
       "      <td>-99.747591</td>\n",
       "    </tr>\n",
       "    <tr>\n",
       "      <th>1</th>\n",
       "      <td>658cf21eef708428cb9f0291</td>\n",
       "      <td>4</td>\n",
       "      <td>Michael Jefferson Adams</td>\n",
       "      <td>06/08/1987</td>\n",
       "      <td>Abilene, Texas</td>\n",
       "      <td>Endangered Missing</td>\n",
       "      <td>Male</td>\n",
       "      <td>White</td>\n",
       "      <td>03/28/1969 (54)</td>\n",
       "      <td>18 years old</td>\n",
       "      <td>6'0 - 6'1, 145 - 150 pounds</td>\n",
       "      <td>32.446450</td>\n",
       "      <td>-99.747591</td>\n",
       "    </tr>\n",
       "    <tr>\n",
       "      <th>2</th>\n",
       "      <td>658cf21eef708428cb9f0292</td>\n",
       "      <td>0</td>\n",
       "      <td>Angela Abbrederis</td>\n",
       "      <td>04/02/1996</td>\n",
       "      <td>Dallas, Texas</td>\n",
       "      <td>Endangered Missing</td>\n",
       "      <td>Female</td>\n",
       "      <td>Asian, Biracial, White</td>\n",
       "      <td>10/25/1968 (55)</td>\n",
       "      <td>27 years old</td>\n",
       "      <td>5'7 - 5'9, 115 - 130 pounds</td>\n",
       "      <td>32.776272</td>\n",
       "      <td>-96.796856</td>\n",
       "    </tr>\n",
       "    <tr>\n",
       "      <th>3</th>\n",
       "      <td>658cf21eef708428cb9f0293</td>\n",
       "      <td>5</td>\n",
       "      <td>Louella Renee Addison</td>\n",
       "      <td>09/13/2019</td>\n",
       "      <td>Austin, Texas</td>\n",
       "      <td>Endangered Missing</td>\n",
       "      <td>Female</td>\n",
       "      <td>Black</td>\n",
       "      <td>08/09/1966 (57)</td>\n",
       "      <td>53 years old</td>\n",
       "      <td>5'0, 120 - 150 pounds</td>\n",
       "      <td>30.271129</td>\n",
       "      <td>-97.743700</td>\n",
       "    </tr>\n",
       "    <tr>\n",
       "      <th>4</th>\n",
       "      <td>658cf21eef708428cb9f0294</td>\n",
       "      <td>6</td>\n",
       "      <td>Adolfo Santo Agramonte</td>\n",
       "      <td>06/20/2005</td>\n",
       "      <td>McAllen, Texas</td>\n",
       "      <td>Migrant</td>\n",
       "      <td>Male</td>\n",
       "      <td>Biracial, Black, Hispanic</td>\n",
       "      <td>N/A</td>\n",
       "      <td>31 years old</td>\n",
       "      <td>5'10 - 6'2, 180 pounds</td>\n",
       "      <td>26.204114</td>\n",
       "      <td>-98.230060</td>\n",
       "    </tr>\n",
       "  </tbody>\n",
       "</table>\n",
       "</div>"
      ],
      "text/plain": [
       "                        _id                 Person Name Missing Since  \\\n",
       "0  658cf21eef708428cb9f0290  3        Debra Marie Adams    03/01/1989   \n",
       "1  658cf21eef708428cb9f0291  4  Michael Jefferson Adams    06/08/1987   \n",
       "2  658cf21eef708428cb9f0292  0        Angela Abbrederis    04/02/1996   \n",
       "3  658cf21eef708428cb9f0293  5    Louella Renee Addison    09/13/2019   \n",
       "4  658cf21eef708428cb9f0294  6   Adolfo Santo Agramonte    06/20/2005   \n",
       "\n",
       "      Missing From      Classification     Sex                        Race  \\\n",
       "0   Abilene, Texas             Missing  Female                       White   \n",
       "1   Abilene, Texas  Endangered Missing    Male                       White   \n",
       "2    Dallas, Texas  Endangered Missing  Female      Asian, Biracial, White   \n",
       "3    Austin, Texas  Endangered Missing  Female                       Black   \n",
       "4   McAllen, Texas             Migrant    Male   Biracial, Black, Hispanic   \n",
       "\n",
       "     Date of Birth           Age             Height and Weight   Latitude  \\\n",
       "0  11/14/1967 (56)  22 years old               5'5, 110 pounds  32.446450   \n",
       "1  03/28/1969 (54)  18 years old   6'0 - 6'1, 145 - 150 pounds  32.446450   \n",
       "2  10/25/1968 (55)  27 years old   5'7 - 5'9, 115 - 130 pounds  32.776272   \n",
       "3  08/09/1966 (57)  53 years old         5'0, 120 - 150 pounds  30.271129   \n",
       "4              N/A  31 years old        5'10 - 6'2, 180 pounds  26.204114   \n",
       "\n",
       "   Longitude  \n",
       "0 -99.747591  \n",
       "1 -99.747591  \n",
       "2 -96.796856  \n",
       "3 -97.743700  \n",
       "4 -98.230060  "
      ]
     },
     "execution_count": 61,
     "metadata": {},
     "output_type": "execute_result"
    }
   ],
   "source": [
    "# Apply lat and lon to clean DF\n",
    "coordinates_df = pd.DataFrame(list(cases.find()))\n",
    "coordinates_df['Latitude'] = lat\n",
    "coordinates_df['Longitude'] = lon\n",
    "print(\"Rows for all cases:\", len(coordinates_df))\n",
    "coordinates_df.head()"
   ]
  },
  {
   "cell_type": "code",
   "execution_count": 64,
   "id": "e7ccfb7e",
   "metadata": {},
   "outputs": [],
   "source": [
    "coordinates_df.to_csv(\"coordinates.csv\", index=False)"
   ]
  },
  {
   "cell_type": "code",
   "execution_count": null,
   "id": "446f378b",
   "metadata": {},
   "outputs": [],
   "source": []
  }
 ],
 "metadata": {
  "kernelspec": {
   "display_name": "Python 3 (ipykernel)",
   "language": "python",
   "name": "python3"
  },
  "language_info": {
   "codemirror_mode": {
    "name": "ipython",
    "version": 3
   },
   "file_extension": ".py",
   "mimetype": "text/x-python",
   "name": "python",
   "nbconvert_exporter": "python",
   "pygments_lexer": "ipython3",
   "version": "3.10.13"
  }
 },
 "nbformat": 4,
 "nbformat_minor": 5
}
